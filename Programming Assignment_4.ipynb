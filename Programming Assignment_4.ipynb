{
 "cells": [
  {
   "cell_type": "raw",
   "id": "c2d87c7d-4cc5-4e57-838c-cd58e343a323",
   "metadata": {},
   "source": [
    "1. Write a Python Program to Find the Factorial of a Number?\n",
    "2. Write a Python Program to Display the multiplication Table?\n",
    "3. Write a Python Program to Print the Fibonacci sequence?\n",
    "4. Write a Python Program to Check Armstrong Number?\n",
    "5. Write a Python Program to Find Armstrong Number in an Interval?\n",
    "6. Write a Python Program to Find the Sum of Natural Numbers?"
   ]
  },
  {
   "cell_type": "code",
   "execution_count": 5,
   "id": "cc0aca5b-b03a-407c-bb5c-3ee8241b022b",
   "metadata": {},
   "outputs": [
    {
     "name": "stdin",
     "output_type": "stream",
     "text": [
      "Enter a Number: 5\n"
     ]
    },
    {
     "name": "stdout",
     "output_type": "stream",
     "text": [
      "Factorial for the number 5 is: 120\n"
     ]
    }
   ],
   "source": [
    "# 1. Write a Python Program to Find the Factorial of a Number?\n",
    "\n",
    "n = int(input(\"Enter a Number:\"))\n",
    "fact = 1\n",
    "for i in range(1,n+1):\n",
    "    fact = fact*i\n",
    "print(\"Factorial for the number\",n, \"is:\" , fact )"
   ]
  },
  {
   "cell_type": "code",
   "execution_count": 8,
   "id": "8beb6f51-3ebc-44fb-bbc7-6bea36072882",
   "metadata": {},
   "outputs": [
    {
     "name": "stdin",
     "output_type": "stream",
     "text": [
      "Enter the number for table: 2\n",
      "Enter the size for the table: 20\n"
     ]
    },
    {
     "name": "stdout",
     "output_type": "stream",
     "text": [
      "2 * 1 = 2\n",
      "2 * 2 = 4\n",
      "2 * 3 = 6\n",
      "2 * 4 = 8\n",
      "2 * 5 = 10\n",
      "2 * 6 = 12\n",
      "2 * 7 = 14\n",
      "2 * 8 = 16\n",
      "2 * 9 = 18\n",
      "2 * 10 = 20\n",
      "2 * 11 = 22\n",
      "2 * 12 = 24\n",
      "2 * 13 = 26\n",
      "2 * 14 = 28\n",
      "2 * 15 = 30\n",
      "2 * 16 = 32\n",
      "2 * 17 = 34\n",
      "2 * 18 = 36\n",
      "2 * 19 = 38\n",
      "2 * 20 = 40\n"
     ]
    }
   ],
   "source": [
    "# 2. Write a Python Program to Display the multiplication Table?\n",
    "\n",
    "n = int(input(\"Enter the number for table:\"))\n",
    "t = int(input(\"Enter the size for the table:\"))\n",
    "\n",
    "for i in range(1,t+1):\n",
    "    print(n, \"*\" , i , \"=\", n*i)"
   ]
  },
  {
   "cell_type": "code",
   "execution_count": 13,
   "id": "63fb7876-34ab-4393-8cc7-fdb14cfe7083",
   "metadata": {},
   "outputs": [
    {
     "name": "stdin",
     "output_type": "stream",
     "text": [
      "Enter the number: 20\n"
     ]
    },
    {
     "name": "stdout",
     "output_type": "stream",
     "text": [
      "0\n",
      "1\n",
      "1\n",
      "2\n",
      "3\n",
      "5\n",
      "8\n",
      "13\n",
      "21\n",
      "34\n",
      "55\n",
      "89\n",
      "144\n",
      "233\n",
      "377\n",
      "610\n",
      "987\n",
      "1597\n",
      "2584\n",
      "4181\n"
     ]
    }
   ],
   "source": [
    "# 3. Write a Python Program to Print the Fibonacci sequence?\n",
    "\n",
    "n = int(input(\"Enter the number:\"))\n",
    "fib1 = 0\n",
    "fib2 = 1\n",
    "print(fib1)\n",
    "print(fib2)\n",
    "for i in range(2,n):\n",
    "    fib3 = fib1+fib2\n",
    "    fib1 = fib2\n",
    "    fib2 = fib3\n",
    "    print(fib3)"
   ]
  },
  {
   "cell_type": "code",
   "execution_count": 26,
   "id": "5a84a95c-78e9-408d-845e-7e468c600458",
   "metadata": {},
   "outputs": [
    {
     "name": "stdin",
     "output_type": "stream",
     "text": [
      "Enter the number: 200\n"
     ]
    },
    {
     "name": "stdout",
     "output_type": "stream",
     "text": [
      "The number 200 is not an Armstrong number\n"
     ]
    }
   ],
   "source": [
    "# 4. Write a Python Program to Check Armstrong Number?\n",
    "\n",
    "n = int(input(\"Enter the number:\"))\n",
    "n1 = n\n",
    "arm = 0\n",
    "while n>0:\n",
    "    t = n%10\n",
    "    r = t**3\n",
    "    n = n//10\n",
    "    arm = arm+r\n",
    "if(arm == n1):\n",
    "    print(\"The number\", n1 , \"is an Armstrong number\")\n",
    "else:\n",
    "    print(\"The number\", n1 , \"is not an Armstrong number\")"
   ]
  },
  {
   "cell_type": "code",
   "execution_count": 4,
   "id": "32732977-d78a-4098-a133-a5dd3b3ce618",
   "metadata": {},
   "outputs": [
    {
     "name": "stdin",
     "output_type": "stream",
     "text": [
      "Enter the range: 600\n"
     ]
    },
    {
     "name": "stdout",
     "output_type": "stream",
     "text": [
      "0\n",
      "1\n",
      "153\n",
      "370\n",
      "371\n",
      "407\n"
     ]
    }
   ],
   "source": [
    "# 5. Write a Python Program to Find Armstrong Number in an Interval?\n",
    "\n",
    "n = int(input(\"Enter the range:\"))\n",
    "for i in range(0,n):\n",
    "    i1=i\n",
    "    arm = 0\n",
    "    while i1>0:\n",
    "        t = i1%10\n",
    "        r = t**3\n",
    "        i1 = i1//10\n",
    "        arm = arm+r\n",
    "    if(arm == i):\n",
    "        print(i)"
   ]
  },
  {
   "cell_type": "code",
   "execution_count": 6,
   "id": "84d92925-ef82-48ed-9add-d4293a5f3a1f",
   "metadata": {},
   "outputs": [
    {
     "name": "stdin",
     "output_type": "stream",
     "text": [
      "Enter a number: 16\n"
     ]
    },
    {
     "name": "stdout",
     "output_type": "stream",
     "text": [
      "The sum of 16 natural nunmbers is 136\n"
     ]
    }
   ],
   "source": [
    "# 6. Write a Python Program to Find the Sum of Natural Numbers?\n",
    "\n",
    "n = int(input(\"Enter a number:\"))\n",
    "sum = 0\n",
    "for i in range(0,n+1):\n",
    "    sum += i\n",
    "print(\"The sum of\", n, \"natural nunmbers is\", sum) "
   ]
  },
  {
   "cell_type": "code",
   "execution_count": null,
   "id": "b8775d98-57e5-4d40-b18e-cce662225c3c",
   "metadata": {},
   "outputs": [],
   "source": []
  }
 ],
 "metadata": {
  "kernelspec": {
   "display_name": "Python 3 (ipykernel)",
   "language": "python",
   "name": "python3"
  },
  "language_info": {
   "codemirror_mode": {
    "name": "ipython",
    "version": 3
   },
   "file_extension": ".py",
   "mimetype": "text/x-python",
   "name": "python",
   "nbconvert_exporter": "python",
   "pygments_lexer": "ipython3",
   "version": "3.10.6"
  }
 },
 "nbformat": 4,
 "nbformat_minor": 5
}
