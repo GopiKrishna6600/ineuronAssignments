{
 "cells": [
  {
   "cell_type": "raw",
   "id": "12bc7de2",
   "metadata": {},
   "source": [
    "1.Write a Python program to print \"Hello Python\"?\n",
    "2.Write a Python program to do arithmetical operations addition and division.?\n",
    "3.Write a Python program to find the area of a triangle?\n",
    "4.Write a Python program to swap two variables?\n",
    "5.Write a Python program to generate a random number?"
   ]
  },
  {
   "cell_type": "code",
   "execution_count": 1,
   "id": "37dd6d90",
   "metadata": {},
   "outputs": [
    {
     "name": "stdout",
     "output_type": "stream",
     "text": [
      "Hello Python\n"
     ]
    }
   ],
   "source": [
    "# 1.Write a Python program to print \"Hello Python\"?\n",
    "\n",
    "print(\"Hello Python\")"
   ]
  },
  {
   "cell_type": "code",
   "execution_count": 2,
   "id": "378152b6",
   "metadata": {},
   "outputs": [
    {
     "name": "stdout",
     "output_type": "stream",
     "text": [
      "Enter the value of a: 40\n",
      "Enter the value of b: 10\n",
      "Addition of a and b is:  50\n",
      "Division of a and b is:  4.0\n"
     ]
    }
   ],
   "source": [
    "# 2.Write a Python program to do arithmetical operations addition and division.?\n",
    "\n",
    "a = int(input(\"Enter the value of a: \"))\n",
    "b = int(input(\"Enter the value of b: \"))\n",
    "print(\"Addition of a and b is: \",a+b)\n",
    "print(\"Division of a and b is: \",a/b)"
   ]
  },
  {
   "cell_type": "code",
   "execution_count": 3,
   "id": "37a5797c",
   "metadata": {},
   "outputs": [
    {
     "name": "stdout",
     "output_type": "stream",
     "text": [
      "Enter the height of the Triangle: 6\n",
      "Enter the base value of the Triangle: 9\n",
      "Area of the Triangle is:  27.0\n"
     ]
    }
   ],
   "source": [
    "# 3.Write a Python program to find the area of a triangle?\n",
    "\n",
    "h = float(input(\"Enter the height of the Triangle: \"))\n",
    "b = float(input(\"Enter the base value of the Triangle: \"))\n",
    "area = 0.5*h*b\n",
    "print(\"Area of the Triangle is: \",area)"
   ]
  },
  {
   "cell_type": "code",
   "execution_count": 4,
   "id": "d9951efc",
   "metadata": {},
   "outputs": [
    {
     "name": "stdout",
     "output_type": "stream",
     "text": [
      "Enter the value of a: Gopi\n",
      "Enter the value of b: Krishna\n",
      "Variables after swappings are, a =  Krishna b =  Gopi\n"
     ]
    }
   ],
   "source": [
    "# 4.Write a Python program to swap two variables?\n",
    "\n",
    "a = input(\"Enter the value of a: \")\n",
    "b = input(\"Enter the value of b: \")\n",
    "a,b = b,a\n",
    "print(\"Variables after swappings are, a = \",a , \"b = \",b)"
   ]
  },
  {
   "cell_type": "code",
   "execution_count": 5,
   "id": "76dd3096",
   "metadata": {},
   "outputs": [
    {
     "name": "stdout",
     "output_type": "stream",
     "text": [
      "Enter the starting range for the random number: 1\n",
      "Enter the ending range for the random number: 6\n",
      "1\n"
     ]
    }
   ],
   "source": [
    "# 5.Write a Python program to generate a random number?\n",
    "\n",
    "import random\n",
    "a = int(input(\"Enter the starting range for the random number: \"))\n",
    "b = int(input(\"Enter the ending range for the random number: \"))\n",
    "n = random.randint(a,b)\n",
    "print(n)"
   ]
  },
  {
   "cell_type": "code",
   "execution_count": null,
   "id": "80bfcead",
   "metadata": {},
   "outputs": [],
   "source": []
  }
 ],
 "metadata": {
  "kernelspec": {
   "display_name": "Python 3 (ipykernel)",
   "language": "python",
   "name": "python3"
  },
  "language_info": {
   "codemirror_mode": {
    "name": "ipython",
    "version": 3
   },
   "file_extension": ".py",
   "mimetype": "text/x-python",
   "name": "python",
   "nbconvert_exporter": "python",
   "pygments_lexer": "ipython3",
   "version": "3.9.13"
  }
 },
 "nbformat": 4,
 "nbformat_minor": 5
}
