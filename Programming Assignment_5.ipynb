{
 "cells": [
  {
   "cell_type": "raw",
   "id": "000874a7-65d9-41b9-a0ee-6f093df0038b",
   "metadata": {},
   "source": [
    "1. Write a Python Program to Find LCM?\n",
    "2. Write a Python Program to Find HCF?\n",
    "3. Write a Python Program to Convert Decimal to Binary, Octal and Hexadecimal?\n",
    "4. Write a Python Program To Find ASCII value of a character?\n",
    "5. Write a Python Program to Make a Simple Calculator with 4 basic mathematical operations?"
   ]
  },
  {
   "cell_type": "code",
   "execution_count": 15,
   "id": "f03230d1-5ebb-4027-869d-aa789f5fe83a",
   "metadata": {},
   "outputs": [
    {
     "name": "stdin",
     "output_type": "stream",
     "text": [
      "Enter the first number: 3\n",
      "Enter the second number: 4\n"
     ]
    },
    {
     "name": "stdout",
     "output_type": "stream",
     "text": [
      "LCM of 3 and 4 is 12\n"
     ]
    }
   ],
   "source": [
    "# 1. Write a Python Program to Find LCM?\n",
    "\n",
    "n1 = int(input(\"Enter the first number:\"))\n",
    "n2 = int(input(\"Enter the second number:\"))\n",
    "m = max(n1,n2)\n",
    "for i in range(m,(n1*n2)+1):\n",
    "    if i%n1==0 and i%n2==0:\n",
    "        print(\"LCM of\", n1, \"and\" , n2 , \"is\", i)\n",
    "        break"
   ]
  },
  {
   "cell_type": "code",
   "execution_count": 20,
   "id": "35ecbc14-fe9f-4f26-8d59-c586c499a0fe",
   "metadata": {},
   "outputs": [
    {
     "name": "stdin",
     "output_type": "stream",
     "text": [
      "Enter the first number: 24\n",
      "Enter the second number: 36\n"
     ]
    },
    {
     "name": "stdout",
     "output_type": "stream",
     "text": [
      "HCF of 24 and 36 is 12\n"
     ]
    }
   ],
   "source": [
    "# 2. Write a Python Program to Find HCF?\n",
    "\n",
    "n1 = int(input(\"Enter the first number:\"))\n",
    "n2 = int(input(\"Enter the second number:\"))\n",
    "m = min(n1,n2)\n",
    "hcf = 1\n",
    "for i in range(1,m):\n",
    "    if n1%i==0 and n2%i==0:\n",
    "        hcf = i\n",
    "print(\"HCF of\" , n1, \"and\", n2, \"is\", hcf)"
   ]
  },
  {
   "cell_type": "code",
   "execution_count": 2,
   "id": "de38db84-bf09-4716-a549-51f9f14fdf7b",
   "metadata": {},
   "outputs": [
    {
     "name": "stdin",
     "output_type": "stream",
     "text": [
      "Enter a number: 240\n"
     ]
    },
    {
     "name": "stdout",
     "output_type": "stream",
     "text": [
      "The Binary value of 240 is 0b11110000\n",
      "The Octal value of 240 is 0o360\n",
      "The Hexadecimal value of 240 is 0xf0\n"
     ]
    }
   ],
   "source": [
    "# 3. Write a Python Program to Convert Decimal to Binary, Octal and Hexadecimal?\n",
    "\n",
    "n = int(input(\"Enter a number:\"))\n",
    "print(\"The Binary value of\", n ,\"is\", bin(n))\n",
    "print(\"The Octal value of\", n ,\"is\", oct(n))\n",
    "print(\"The Hexadecimal value of\", n ,\"is\", hex(n))"
   ]
  },
  {
   "cell_type": "code",
   "execution_count": 25,
   "id": "adfceb91-7a9a-4884-ac81-b32a979b3605",
   "metadata": {},
   "outputs": [
    {
     "name": "stdin",
     "output_type": "stream",
     "text": [
      "Enter the character: A\n"
     ]
    },
    {
     "name": "stdout",
     "output_type": "stream",
     "text": [
      "The Ascii value of A is 65\n"
     ]
    }
   ],
   "source": [
    "# 4. Write a Python Program To Find ASCII value of a character?\n",
    "\n",
    "a = input(\"Enter the character:\")\n",
    "print(\"The Ascii value of\", a, \"is\", ord(a))"
   ]
  },
  {
   "cell_type": "code",
   "execution_count": 30,
   "id": "2c8c9a7e-174a-4ddd-836c-23ea9f622a9c",
   "metadata": {},
   "outputs": [
    {
     "name": "stdin",
     "output_type": "stream",
     "text": [
      "Enter the operation (sum,sub,mul,div): CAL\n"
     ]
    },
    {
     "name": "stdout",
     "output_type": "stream",
     "text": [
      "Please choose the correct option\n"
     ]
    }
   ],
   "source": [
    "n = input(\"Enter the operation (sum,sub,mul,div):\")\n",
    "if n.lower() == 'sum' or n.lower() == 'sub' or n.lower() == 'mul' or n.lower() == 'div':\n",
    "    if n.lower() == 'sum':\n",
    "        a = int(input(\"Enter the first number:\"))\n",
    "        b = int(input(\"Enter the second number:\"))\n",
    "        print(\"sum of\", a, \"and\" , b, \"is\", (a+b))\n",
    "    elif n.lower() == 'sub':\n",
    "        a = int(input(\"Enter the first number:\"))\n",
    "        b = int(input(\"Enter the second number:\"))\n",
    "        print(\"Subtraction of\", a, \"and\" , b, \"is\", (a-b))\n",
    "    elif n.lower() == 'mul':\n",
    "        a = int(input(\"Enter the first number:\"))\n",
    "        b = int(input(\"Enter the second number:\"))\n",
    "        print(\"Multiplication of\", a, \"and\" , b, \"is\", (a*b))\n",
    "    elif n.lower() == 'div':\n",
    "        a = int(input(\"Enter the first number:\"))\n",
    "        b = int(input(\"Enter the second number:\"))\n",
    "        print(\"Division of\", a, \"and\" , b, \"is\", (a/b))\n",
    "else:\n",
    "    print(\"Please choose the correct option\")"
   ]
  },
  {
   "cell_type": "code",
   "execution_count": null,
   "id": "8b57f881-8acb-47c1-a01a-16f55ac33071",
   "metadata": {},
   "outputs": [],
   "source": []
  }
 ],
 "metadata": {
  "kernelspec": {
   "display_name": "Python 3 (ipykernel)",
   "language": "python",
   "name": "python3"
  },
  "language_info": {
   "codemirror_mode": {
    "name": "ipython",
    "version": 3
   },
   "file_extension": ".py",
   "mimetype": "text/x-python",
   "name": "python",
   "nbconvert_exporter": "python",
   "pygments_lexer": "ipython3",
   "version": "3.10.6"
  }
 },
 "nbformat": 4,
 "nbformat_minor": 5
}
