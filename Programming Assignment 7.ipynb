{
 "cells": [
  {
   "cell_type": "code",
   "execution_count": 2,
   "id": "b6c4fea1",
   "metadata": {},
   "outputs": [
    {
     "name": "stdout",
     "output_type": "stream",
     "text": [
      "Enter the list elements: 1 2 3 4 5 6\n",
      "The sum of the array is : 21\n"
     ]
    }
   ],
   "source": [
    "# 1. Write a Python Program to find sum of array?\n",
    "\n",
    "sa = 0\n",
    "a = list(map(int,input(\"Enter the list elements: \").split()))\n",
    "for i in a:\n",
    "    sa = sa+i\n",
    "print(\"The sum of the array is :\",sa)"
   ]
  },
  {
   "cell_type": "code",
   "execution_count": 3,
   "id": "789b06bf",
   "metadata": {},
   "outputs": [
    {
     "name": "stdout",
     "output_type": "stream",
     "text": [
      "Enter the elements: 6 15 20 9 18 10 12\n",
      "The largest elements in array is : 20\n"
     ]
    }
   ],
   "source": [
    "# 2. Write a Python Program to find largest element in an array?\n",
    "\n",
    "a = list(map(int,input(\"Enter the elements: \").split()))\n",
    "lar = max(a)\n",
    "print(\"The largest elements in array is :\", lar)"
   ]
  },
  {
   "cell_type": "code",
   "execution_count": 11,
   "id": "1bb6b1bc",
   "metadata": {},
   "outputs": [
    {
     "name": "stdout",
     "output_type": "stream",
     "text": [
      "Enter the elements: 1 2 3 4 5 6\n",
      "The Rotated array is:  [6, 5, 4, 3, 2, 1]\n"
     ]
    }
   ],
   "source": [
    "# 3. Write a Python Program for array rotation?\n",
    "\n",
    "rot = []\n",
    "a = list(map(int,input(\"Enter the elements: \").split()))\n",
    "hi = len(a)\n",
    "for i in range(hi-1,-1,-1):\n",
    "    rot.append(a[i])\n",
    "print(\"The Rotated array is: \",rot)"
   ]
  },
  {
   "cell_type": "code",
   "execution_count": 19,
   "id": "796eb523",
   "metadata": {},
   "outputs": [
    {
     "name": "stdout",
     "output_type": "stream",
     "text": [
      "Enter the elements: 1 2 3 4 5 6\n",
      "The output array is:  [4, 5, 6, 1, 2, 3]\n"
     ]
    }
   ],
   "source": [
    "# 4. Write a Python Program to Split the array and add the first part to the end?\n",
    "\n",
    "first = []\n",
    "second = []\n",
    "a = list(map(int,input(\"Enter the elements: \").split()))\n",
    "for i in range (0,int(len(a)/2)):\n",
    "    first.append(a[i])\n",
    "for i in range (int(len(a)/2),len(a)):\n",
    "    second.append(a[i])\n",
    "for i in first:\n",
    "    second.append(i)\n",
    "print(\"The output array is: \",second)"
   ]
  },
  {
   "cell_type": "code",
   "execution_count": 9,
   "id": "e7e8bdf1",
   "metadata": {},
   "outputs": [
    {
     "name": "stdout",
     "output_type": "stream",
     "text": [
      "Enter the elements: 6 5 4 3 2 1\n",
      "The array is Monotonic\n"
     ]
    }
   ],
   "source": [
    "# 5. Write a Python Program to check if given array is Monotonic?\n",
    "\n",
    "a = list(map(int,input(\"Enter the elements: \").split()))\n",
    "inc = True\n",
    "dec = True\n",
    "for i in range (0,len(a)-1):\n",
    "    if a[i] >= a[i+1]:\n",
    "        inc = False\n",
    "for i in range (0,len(a)-1):\n",
    "    if a[i] <= a[i+1]:\n",
    "        dec = False\n",
    "if inc == True or dec == True:\n",
    "    print(\"The array is Monotonic\")\n",
    "else:\n",
    "    print(\"The array is not Monotonic\")"
   ]
  }
 ],
 "metadata": {
  "kernelspec": {
   "display_name": "Python 3 (ipykernel)",
   "language": "python",
   "name": "python3"
  },
  "language_info": {
   "codemirror_mode": {
    "name": "ipython",
    "version": 3
   },
   "file_extension": ".py",
   "mimetype": "text/x-python",
   "name": "python",
   "nbconvert_exporter": "python",
   "pygments_lexer": "ipython3",
   "version": "3.9.13"
  }
 },
 "nbformat": 4,
 "nbformat_minor": 5
}
