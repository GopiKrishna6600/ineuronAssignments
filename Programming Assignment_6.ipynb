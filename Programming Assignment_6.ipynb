{
 "cells": [
  {
   "cell_type": "raw",
   "id": "f79095f9-0ec9-414a-8e2c-b2cc955cc732",
   "metadata": {},
   "source": [
    "1. Write a Python Program to Display Fibonacci Sequence Using Recursion?\n",
    "2. Write a Python Program to Find Factorial of Number Using Recursion?\n",
    "3. Write a Python Program to calculate your Body Mass Index?\n",
    "4. Write a Python Program to calculate the natural logarithm of any number?\n",
    "5. Write a Python Program for cube sum of first n natural numbers?"
   ]
  },
  {
   "cell_type": "code",
   "execution_count": 3,
   "id": "5fbceff9-44fc-436d-ade8-0e062eca4817",
   "metadata": {},
   "outputs": [
    {
     "name": "stdin",
     "output_type": "stream",
     "text": [
      "Enter the range: 10\n"
     ]
    },
    {
     "name": "stdout",
     "output_type": "stream",
     "text": [
      "0\n",
      "1\n",
      "1\n",
      "2\n",
      "3\n",
      "5\n",
      "8\n",
      "13\n",
      "21\n",
      "34\n"
     ]
    }
   ],
   "source": [
    "# 1. Write a Python Program to Display Fibonacci Sequence Using Recursion?\n",
    "\n",
    "def Fibonacci(i):\n",
    "    if i<=1:\n",
    "        return i\n",
    "    else:\n",
    "        return (Fibonacci(i-1) + Fibonacci(i-2))\n",
    "\n",
    "n = int(input(\"Enter the range:\"))\n",
    "for i in range(n):\n",
    "    print(Fibonacci(i))"
   ]
  },
  {
   "cell_type": "code",
   "execution_count": 10,
   "id": "d4fd2041-2c97-4cc6-9f72-72ae168a22e1",
   "metadata": {},
   "outputs": [
    {
     "name": "stdin",
     "output_type": "stream",
     "text": [
      "Enter the number: 5\n"
     ]
    },
    {
     "name": "stdout",
     "output_type": "stream",
     "text": [
      "120\n"
     ]
    }
   ],
   "source": [
    "# 2. Write a Python Program to Find Factorial of Number Using Recursion?\n",
    "\n",
    "def Fact(n):\n",
    "    if n == 1:\n",
    "        return 1\n",
    "    else:\n",
    "        return n*Fact(n-1)\n",
    "\n",
    "n = int(input(\"Enter the number:\"))\n",
    "print(Fact(n))"
   ]
  },
  {
   "cell_type": "code",
   "execution_count": 19,
   "id": "e535eece-679e-4361-8d2e-2ebc73fceca1",
   "metadata": {},
   "outputs": [
    {
     "name": "stdin",
     "output_type": "stream",
     "text": [
      "Enter the weight in KGs: 100\n",
      "Enter the height in cms: 168\n"
     ]
    },
    {
     "name": "stdout",
     "output_type": "stream",
     "text": [
      "Your BMI is: 35.43\n",
      "You have Obesity\n"
     ]
    }
   ],
   "source": [
    "# 3. Write a Python Program to calculate your Body Mass Index?\n",
    "\n",
    "w = int(input(\"Enter the weight in KGs:\"))\n",
    "h = int(input(\"Enter the height in cms:\"))\n",
    "\n",
    "BMI = w/((h/100)**2)\n",
    "\n",
    "print(\"Your BMI score is:\", round(BMI,2))\n",
    "\n",
    "if BMI<=18.5:\n",
    "    print(\"You are underweight\")\n",
    "elif BMI>18.5 and BMI<=24.9:\n",
    "    print(\"Your weight is normal\")\n",
    "elif BMI>25 and BMI<=29.9:\n",
    "    print(\"You are overweight\")\n",
    "else:\n",
    "    print(\"You have Obesity\")"
   ]
  },
  {
   "cell_type": "code",
   "execution_count": 21,
   "id": "3ccf9f21-965a-40f7-bbc2-cad533a51427",
   "metadata": {},
   "outputs": [
    {
     "name": "stdin",
     "output_type": "stream",
     "text": [
      "Enter the number: 14\n"
     ]
    },
    {
     "name": "stdout",
     "output_type": "stream",
     "text": [
      "Natural Logarithm value of 14 is 2.6390573296152584\n"
     ]
    }
   ],
   "source": [
    "# 4. Write a Python Program to calculate the natural logarithm of any number?\n",
    "\n",
    "import math\n",
    "\n",
    "n = int(input(\"Enter the number:\"))\n",
    "print(\"Natural Logarithm value of\", n, \"is\", math.log(n))"
   ]
  },
  {
   "cell_type": "code",
   "execution_count": 29,
   "id": "6d21e0c5-3349-48df-b90a-34a50d148f2b",
   "metadata": {},
   "outputs": [
    {
     "name": "stdin",
     "output_type": "stream",
     "text": [
      "Enter the range: 7\n"
     ]
    },
    {
     "name": "stdout",
     "output_type": "stream",
     "text": [
      "Cube sum of first 7 numbers is 784\n"
     ]
    }
   ],
   "source": [
    "# 5. Write a Python Program for cube sum of first n natural numbers?\n",
    "\n",
    "n = int(input(\"Enter the range:\"))\n",
    "s = 0\n",
    "for i in range(n+1):\n",
    "    s += i**3\n",
    "    \n",
    "print(\"Cube sum of first\", n, \"numbers is\", s)"
   ]
  },
  {
   "cell_type": "code",
   "execution_count": null,
   "id": "c01ae7b6-9400-48b8-9b88-1d5e29b38b20",
   "metadata": {},
   "outputs": [],
   "source": []
  }
 ],
 "metadata": {
  "kernelspec": {
   "display_name": "Python 3 (ipykernel)",
   "language": "python",
   "name": "python3"
  },
  "language_info": {
   "codemirror_mode": {
    "name": "ipython",
    "version": 3
   },
   "file_extension": ".py",
   "mimetype": "text/x-python",
   "name": "python",
   "nbconvert_exporter": "python",
   "pygments_lexer": "ipython3",
   "version": "3.10.6"
  }
 },
 "nbformat": 4,
 "nbformat_minor": 5
}
